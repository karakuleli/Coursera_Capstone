{
 "cells": [
  {
   "cell_type": "markdown",
   "metadata": {},
   "source": [
    "## A description of the problem and a discussion of the background"
   ]
  },
  {
   "cell_type": "markdown",
   "metadata": {},
   "source": [
    "# Gökhan Karakuleli Capstone Project - The Battle of Neighborhoods (Week 1)"
   ]
  },
  {
   "cell_type": "markdown",
   "metadata": {},
   "source": [
    "İzmir constitutes 5.3% of Turkey with a 4,113,072 population in 2015. The city ranks 3rd among 81 cities both in terms of size and socioeconomic development. İzmir is also an attraction center for the investors with its logistics infrastructure, qualified workforce and multi-sector structure. The fact that almost half of its population of 4 million are under the age of 30, makes İzmir a city full of life. The city hosts tens of thousands of university students, educates scientists, artists, business leaders and academics. It is a rapidly growing city on the Central Aegean coast of Turkey.\n"
   ]
  },
  {
   "cell_type": "markdown",
   "metadata": {},
   "source": [
    "First, we need to find all the districts and locations of izmir to find the district where my client wants to open his café. In the meantime, since the target audience will be students, the location of the surrounding universities and schools should be determined. In addition to this, we should try to determine their position in the cafes that may rival themselves and to ensure that the competition is less."
   ]
  },
  {
   "cell_type": "markdown",
   "metadata": {},
   "source": [
    "## A description of the data and how it will be used to solve the problem"
   ]
  },
  {
   "cell_type": "markdown",
   "metadata": {},
   "source": [
    "Wikipedia will be used to find districts in izmir. (https://tr.wikipedia.org/wiki/%C4%B0zmir%27in_il%C3%A7eleri)\n",
    "\n",
    "Open Street Map, which is offered as open source, will be used to find the geographical locations of the districts.\n",
    "\n",
    "Foursquare API will be used to find cafes, schools and universities around 2500 meters of district centers using \n",
    "\n",
    "Using all the information above, we will try to find the most suitable cafe for our customers."
   ]
  }
 ],
 "metadata": {
  "kernelspec": {
   "display_name": "Python",
   "language": "python",
   "name": "conda-env-python-py"
  },
  "language_info": {
   "codemirror_mode": {
    "name": "ipython",
    "version": 3
   },
   "file_extension": ".py",
   "mimetype": "text/x-python",
   "name": "python",
   "nbconvert_exporter": "python",
   "pygments_lexer": "ipython3",
   "version": "3.6.7"
  }
 },
 "nbformat": 4,
 "nbformat_minor": 4
}
